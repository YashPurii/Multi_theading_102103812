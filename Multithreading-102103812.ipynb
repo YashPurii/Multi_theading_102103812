{
 "cells": [
  {
   "cell_type": "code",
   "execution_count": 1,
   "id": "61680dab",
   "metadata": {},
   "outputs": [
    {
     "name": "stdout",
     "output_type": "stream",
     "text": [
      "+------------------+---------+----------+---------+---------+---------+---------+---------+---------+\n",
      "| Threads          | T=1     | T=2      | T=3     | T=4     | T=5     | T=6     | T=7     | T=8     |\n",
      "+------------------+---------+----------+---------+---------+---------+---------+---------+---------+\n",
      "| Time taken (sec) | 183.929 | 109.7576 | 78.0964 | 65.6599 | 53.8146 | 49.3818 | 46.3503 | 51.5329 |\n",
      "+------------------+---------+----------+---------+---------+---------+---------+---------+---------+\n"
     ]
    },
    {
     "data": {
      "image/png": "[encoded data removed]",
      "text/plain": [
       "<Figure size 432x288 with 1 Axes>"
      ]
     },
     "metadata": {
      "needs_background": "light"
     },
     "output_type": "display_data"
    }
   ],
   "source": [
    "import numpy as np\n",
    "import threading\n",
    "import time\n",
    "from tabulate import tabulate\n",
    "import matplotlib.pyplot as plt\n",
    "\n",
    "def matrix_multiply(A, B, result, index):\n",
    "    result[index] = np.dot(A, B)\n",
    "\n",
    "def run_with_threads(num_threads):\n",
    "    start_time = time.time()\n",
    "    threads = []\n",
    "    chunk_size = len(matrices) // num_threads\n",
    "    for i in range(num_threads):\n",
    "        start_index = i * chunk_size\n",
    "        end_index = start_index + chunk_size if i < num_threads - 1 else len(matrices)\n",
    "        thread = threading.Thread(target=matrix_multiply_batch, args=(A, matrices[start_index:end_index], results, start_index))\n",
    "        threads.append(thread)\n",
    "        thread.start()\n",
    "    for thread in threads:\n",
    "        thread.join()\n",
    "    end_time = time.time()\n",
    "    return end_time - start_time\n",
    "def matrix_multiply_batch(A, matrices_batch, results, start_index):\n",
    "    for i, matrix in enumerate(matrices_batch):\n",
    "        matrix_multiply(A, matrix, results, start_index + i)\n",
    "\n",
    "A = np.random.rand(1000, 1000) # constant matrix\n",
    "results = [None] * 100\n",
    "matrices = [np.random.rand(1000, 1000) for _ in range(100)]  # random matrices\n",
    "\n",
    "results_table = []\n",
    "num_threads = [1, 2, 3, 4, 5, 6, 7, 8]\n",
    "time_taken = []\n",
    "\n",
    "for num_t in num_threads:\n",
    "    ttime = run_with_threads(num_t)\n",
    "    time_taken.append(ttime)\n",
    "    results_table.append((\"T=\"+str(num_t), round(ttime, 4)))\n",
    "\n",
    "ans = list(zip(*results_table))\n",
    "\n",
    "print(tabulate(ans, tablefmt=\"grid\", showindex=[\"Threads\", \"Time taken (sec)\"]))\n",
    "\n",
    "plt.plot(num_threads, time_taken)\n",
    "plt.xlabel('Number of Threads')\n",
    "plt.ylabel('Time taken (sec)')\n",
    "plt.title('No of threads vs Time taken')\n",
    "plt.xticks(num_threads)\n",
    "plt.grid(True)\n",
    "plt.show()"
   ]
  },
  {
   "cell_type": "code",
   "execution_count": null,
   "id": "e4b6d66d",
   "metadata": {},
   "outputs": [],
   "source": []
  }
 ],
 "metadata": {
  "kernelspec": {
   "display_name": "Python 3 (ipykernel)",
   "language": "python",
   "name": "python3"
  },
  "language_info": {
   "codemirror_mode": {
    "name": "ipython",
    "version": 3
   },
   "file_extension": ".py",
   "mimetype": "text/x-python",
   "name": "python",
   "nbconvert_exporter": "python",
   "pygments_lexer": "ipython3",
   "version": "3.9.12"
  }
 },
 "nbformat": 4,
 "nbformat_minor": 5
}
